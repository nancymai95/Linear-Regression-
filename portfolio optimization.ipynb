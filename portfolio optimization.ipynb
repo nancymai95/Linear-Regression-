{
 "cells": [
  {
   "cell_type": "markdown",
   "id": "5b793878",
   "metadata": {},
   "source": [
    "# Portfolio Optimization"
   ]
  },
  {
   "cell_type": "raw",
   "id": "0200db79",
   "metadata": {},
   "source": [
    "In this post I will briefly analyze and visualize the \"top\" technology stocks.It is interesting to see how the top technology companies did after the crash until now. \n",
    "The data was from yahoo finance and I picked Advanced Micro Devices, Netflix, Apple and Tesla\n",
    "Using Pandas, Pandas-Datarader, Matplotlib, I will provide quick visuals to show the comparison between these stocks from 01-01-2017 to today which is 03-02-2023"
   ]
  },
  {
   "cell_type": "markdown",
   "id": "4a4d0ab6",
   "metadata": {},
   "source": [
    "# Import data"
   ]
  },
  {
   "cell_type": "code",
   "execution_count": 56,
   "id": "52085f7b",
   "metadata": {},
   "outputs": [],
   "source": [
    "#Get stock tickers in the porfolio \n",
    "assets = ['AMD','NFLX','AAPL','TSLA']"
   ]
  },
  {
   "cell_type": "code",
   "execution_count": 4,
   "id": "6ef18f25",
   "metadata": {},
   "outputs": [],
   "source": [
    "StartDate = '2017-01-01'"
   ]
  },
  {
   "cell_type": "code",
   "execution_count": 5,
   "id": "2c6bded8",
   "metadata": {},
   "outputs": [
    {
     "data": {
      "text/plain": [
       "'2023-03-02'"
      ]
     },
     "execution_count": 5,
     "metadata": {},
     "output_type": "execute_result"
    }
   ],
   "source": [
    "today = datetime.today().strftime('%Y-%m-%d')\n",
    "today"
   ]
  },
  {
   "cell_type": "code",
   "execution_count": 6,
   "id": "a2cc54e0",
   "metadata": {},
   "outputs": [],
   "source": [
    "import yfinance as yf"
   ]
  },
  {
   "cell_type": "code",
   "execution_count": 7,
   "id": "60076080",
   "metadata": {},
   "outputs": [
    {
     "name": "stdout",
     "output_type": "stream",
     "text": [
      "[*********************100%***********************]  1 of 1 completed\n",
      "[*********************100%***********************]  1 of 1 completed\n",
      "[*********************100%***********************]  1 of 1 completed\n",
      "[*********************100%***********************]  1 of 1 completed\n"
     ]
    }
   ],
   "source": [
    "#Create a dataframe to store the adjusted close price of the stocks \n",
    "df = pd.DataFrame()\n",
    "for stock in assets:\n",
    "    df[stock]= yf.download(stock, start = StartDate, end =today)['Adj Close']"
   ]
  },
  {
   "cell_type": "code",
   "execution_count": 9,
   "id": "ffb7cbe8",
   "metadata": {},
   "outputs": [
    {
     "data": {
      "text/html": [
       "<div>\n",
       "<style scoped>\n",
       "    .dataframe tbody tr th:only-of-type {\n",
       "        vertical-align: middle;\n",
       "    }\n",
       "\n",
       "    .dataframe tbody tr th {\n",
       "        vertical-align: top;\n",
       "    }\n",
       "\n",
       "    .dataframe thead th {\n",
       "        text-align: right;\n",
       "    }\n",
       "</style>\n",
       "<table border=\"1\" class=\"dataframe\">\n",
       "  <thead>\n",
       "    <tr style=\"text-align: right;\">\n",
       "      <th></th>\n",
       "      <th>AMD</th>\n",
       "      <th>NFLX</th>\n",
       "      <th>AAPL</th>\n",
       "      <th>TSLA</th>\n",
       "    </tr>\n",
       "    <tr>\n",
       "      <th>Date</th>\n",
       "      <th></th>\n",
       "      <th></th>\n",
       "      <th></th>\n",
       "      <th></th>\n",
       "    </tr>\n",
       "  </thead>\n",
       "  <tbody>\n",
       "    <tr>\n",
       "      <th>2017-01-03</th>\n",
       "      <td>11.430000</td>\n",
       "      <td>127.489998</td>\n",
       "      <td>27.133331</td>\n",
       "      <td>14.466000</td>\n",
       "    </tr>\n",
       "    <tr>\n",
       "      <th>2017-01-04</th>\n",
       "      <td>11.430000</td>\n",
       "      <td>129.410004</td>\n",
       "      <td>27.102959</td>\n",
       "      <td>15.132667</td>\n",
       "    </tr>\n",
       "    <tr>\n",
       "      <th>2017-01-05</th>\n",
       "      <td>11.240000</td>\n",
       "      <td>131.809998</td>\n",
       "      <td>27.240793</td>\n",
       "      <td>15.116667</td>\n",
       "    </tr>\n",
       "    <tr>\n",
       "      <th>2017-01-06</th>\n",
       "      <td>11.320000</td>\n",
       "      <td>131.070007</td>\n",
       "      <td>27.544474</td>\n",
       "      <td>15.267333</td>\n",
       "    </tr>\n",
       "    <tr>\n",
       "      <th>2017-01-09</th>\n",
       "      <td>11.490000</td>\n",
       "      <td>130.949997</td>\n",
       "      <td>27.796770</td>\n",
       "      <td>15.418667</td>\n",
       "    </tr>\n",
       "    <tr>\n",
       "      <th>...</th>\n",
       "      <td>...</td>\n",
       "      <td>...</td>\n",
       "      <td>...</td>\n",
       "      <td>...</td>\n",
       "    </tr>\n",
       "    <tr>\n",
       "      <th>2023-02-23</th>\n",
       "      <td>79.750000</td>\n",
       "      <td>323.649994</td>\n",
       "      <td>149.399994</td>\n",
       "      <td>202.070007</td>\n",
       "    </tr>\n",
       "    <tr>\n",
       "      <th>2023-02-24</th>\n",
       "      <td>78.089996</td>\n",
       "      <td>317.149994</td>\n",
       "      <td>146.710007</td>\n",
       "      <td>196.880005</td>\n",
       "    </tr>\n",
       "    <tr>\n",
       "      <th>2023-02-27</th>\n",
       "      <td>78.769997</td>\n",
       "      <td>323.029999</td>\n",
       "      <td>147.919998</td>\n",
       "      <td>207.630005</td>\n",
       "    </tr>\n",
       "    <tr>\n",
       "      <th>2023-02-28</th>\n",
       "      <td>78.580002</td>\n",
       "      <td>322.130005</td>\n",
       "      <td>147.410004</td>\n",
       "      <td>205.710007</td>\n",
       "    </tr>\n",
       "    <tr>\n",
       "      <th>2023-03-01</th>\n",
       "      <td>78.290001</td>\n",
       "      <td>313.480011</td>\n",
       "      <td>145.309998</td>\n",
       "      <td>202.770004</td>\n",
       "    </tr>\n",
       "  </tbody>\n",
       "</table>\n",
       "<p>1550 rows × 4 columns</p>\n",
       "</div>"
      ],
      "text/plain": [
       "                  AMD        NFLX        AAPL        TSLA\n",
       "Date                                                     \n",
       "2017-01-03  11.430000  127.489998   27.133331   14.466000\n",
       "2017-01-04  11.430000  129.410004   27.102959   15.132667\n",
       "2017-01-05  11.240000  131.809998   27.240793   15.116667\n",
       "2017-01-06  11.320000  131.070007   27.544474   15.267333\n",
       "2017-01-09  11.490000  130.949997   27.796770   15.418667\n",
       "...               ...         ...         ...         ...\n",
       "2023-02-23  79.750000  323.649994  149.399994  202.070007\n",
       "2023-02-24  78.089996  317.149994  146.710007  196.880005\n",
       "2023-02-27  78.769997  323.029999  147.919998  207.630005\n",
       "2023-02-28  78.580002  322.130005  147.410004  205.710007\n",
       "2023-03-01  78.290001  313.480011  145.309998  202.770004\n",
       "\n",
       "[1550 rows x 4 columns]"
      ]
     },
     "execution_count": 9,
     "metadata": {},
     "output_type": "execute_result"
    }
   ],
   "source": [
    "df"
   ]
  },
  {
   "cell_type": "markdown",
   "id": "332d6f5b",
   "metadata": {},
   "source": [
    "We use the Adjusted Close stock price as it adjusts the raw closing stock price with possible stock splits or dividends. The table shows asjust closing price from 01-04-2017 to 03-01-2023"
   ]
  },
  {
   "cell_type": "markdown",
   "id": "28b963e5",
   "metadata": {},
   "source": [
    "# Visually stock/porfolio"
   ]
  },
  {
   "cell_type": "code",
   "execution_count": 10,
   "id": "84b40d18",
   "metadata": {},
   "outputs": [
    {
     "data": {
      "image/png": "[encoded data removed]",
      "text/plain": [
       "<Figure size 640x480 with 1 Axes>"
      ]
     },
     "metadata": {},
     "output_type": "display_data"
    }
   ],
   "source": [
    "#Visually show the stock/portfolio \n",
    "title = 'Porfolio Adj.Close Price History'\n",
    "#Get the stocks \n",
    "my_stocks = df\n",
    "#Create and plot the graph \n",
    "for c in my_stocks.columns.values:\n",
    "    plt.plot(my_stocks[c],label = c)\n",
    "plt.title(title)\n",
    "plt.xlabel('Date', fontsize =18)\n",
    "plt.ylabel('Adj.Price USD ($)', fontsize =18 )\n",
    "plt.legend(my_stocks.columns.values, loc='upper left')\n",
    "plt.show()"
   ]
  },
  {
   "cell_type": "code",
   "execution_count": 11,
   "id": "f1864278",
   "metadata": {},
   "outputs": [
    {
     "data": {
      "text/html": [
       "<div>\n",
       "<style scoped>\n",
       "    .dataframe tbody tr th:only-of-type {\n",
       "        vertical-align: middle;\n",
       "    }\n",
       "\n",
       "    .dataframe tbody tr th {\n",
       "        vertical-align: top;\n",
       "    }\n",
       "\n",
       "    .dataframe thead th {\n",
       "        text-align: right;\n",
       "    }\n",
       "</style>\n",
       "<table border=\"1\" class=\"dataframe\">\n",
       "  <thead>\n",
       "    <tr style=\"text-align: right;\">\n",
       "      <th></th>\n",
       "      <th>AMD</th>\n",
       "      <th>NFLX</th>\n",
       "      <th>AAPL</th>\n",
       "      <th>TSLA</th>\n",
       "    </tr>\n",
       "    <tr>\n",
       "      <th>Date</th>\n",
       "      <th></th>\n",
       "      <th></th>\n",
       "      <th></th>\n",
       "      <th></th>\n",
       "    </tr>\n",
       "  </thead>\n",
       "  <tbody>\n",
       "    <tr>\n",
       "      <th>2017-01-03</th>\n",
       "      <td>NaN</td>\n",
       "      <td>NaN</td>\n",
       "      <td>NaN</td>\n",
       "      <td>NaN</td>\n",
       "    </tr>\n",
       "    <tr>\n",
       "      <th>2017-01-04</th>\n",
       "      <td>0.000000</td>\n",
       "      <td>0.015060</td>\n",
       "      <td>-0.001119</td>\n",
       "      <td>0.046085</td>\n",
       "    </tr>\n",
       "    <tr>\n",
       "      <th>2017-01-05</th>\n",
       "      <td>-0.016623</td>\n",
       "      <td>0.018546</td>\n",
       "      <td>0.005086</td>\n",
       "      <td>-0.001057</td>\n",
       "    </tr>\n",
       "    <tr>\n",
       "      <th>2017-01-06</th>\n",
       "      <td>0.007117</td>\n",
       "      <td>-0.005614</td>\n",
       "      <td>0.011148</td>\n",
       "      <td>0.009967</td>\n",
       "    </tr>\n",
       "    <tr>\n",
       "      <th>2017-01-09</th>\n",
       "      <td>0.015018</td>\n",
       "      <td>-0.000916</td>\n",
       "      <td>0.009160</td>\n",
       "      <td>0.009912</td>\n",
       "    </tr>\n",
       "    <tr>\n",
       "      <th>...</th>\n",
       "      <td>...</td>\n",
       "      <td>...</td>\n",
       "      <td>...</td>\n",
       "      <td>...</td>\n",
       "    </tr>\n",
       "    <tr>\n",
       "      <th>2023-02-23</th>\n",
       "      <td>0.040987</td>\n",
       "      <td>-0.033534</td>\n",
       "      <td>0.003291</td>\n",
       "      <td>0.006024</td>\n",
       "    </tr>\n",
       "    <tr>\n",
       "      <th>2023-02-24</th>\n",
       "      <td>-0.020815</td>\n",
       "      <td>-0.020083</td>\n",
       "      <td>-0.018005</td>\n",
       "      <td>-0.025684</td>\n",
       "    </tr>\n",
       "    <tr>\n",
       "      <th>2023-02-27</th>\n",
       "      <td>0.008708</td>\n",
       "      <td>0.018540</td>\n",
       "      <td>0.008248</td>\n",
       "      <td>0.054602</td>\n",
       "    </tr>\n",
       "    <tr>\n",
       "      <th>2023-02-28</th>\n",
       "      <td>-0.002412</td>\n",
       "      <td>-0.002786</td>\n",
       "      <td>-0.003448</td>\n",
       "      <td>-0.009247</td>\n",
       "    </tr>\n",
       "    <tr>\n",
       "      <th>2023-03-01</th>\n",
       "      <td>-0.003691</td>\n",
       "      <td>-0.026852</td>\n",
       "      <td>-0.014246</td>\n",
       "      <td>-0.014292</td>\n",
       "    </tr>\n",
       "  </tbody>\n",
       "</table>\n",
       "<p>1550 rows × 4 columns</p>\n",
       "</div>"
      ],
      "text/plain": [
       "                 AMD      NFLX      AAPL      TSLA\n",
       "Date                                              \n",
       "2017-01-03       NaN       NaN       NaN       NaN\n",
       "2017-01-04  0.000000  0.015060 -0.001119  0.046085\n",
       "2017-01-05 -0.016623  0.018546  0.005086 -0.001057\n",
       "2017-01-06  0.007117 -0.005614  0.011148  0.009967\n",
       "2017-01-09  0.015018 -0.000916  0.009160  0.009912\n",
       "...              ...       ...       ...       ...\n",
       "2023-02-23  0.040987 -0.033534  0.003291  0.006024\n",
       "2023-02-24 -0.020815 -0.020083 -0.018005 -0.025684\n",
       "2023-02-27  0.008708  0.018540  0.008248  0.054602\n",
       "2023-02-28 -0.002412 -0.002786 -0.003448 -0.009247\n",
       "2023-03-01 -0.003691 -0.026852 -0.014246 -0.014292\n",
       "\n",
       "[1550 rows x 4 columns]"
      ]
     },
     "execution_count": 11,
     "metadata": {},
     "output_type": "execute_result"
    }
   ],
   "source": [
    "# show the daily simple return \n",
    "returns = df.pct_change()\n",
    "returns"
   ]
  },
  {
   "cell_type": "markdown",
   "id": "1cccc0ce",
   "metadata": {},
   "source": [
    "# Check Distribution of Returns"
   ]
  },
  {
   "cell_type": "code",
   "execution_count": 12,
   "id": "72ee4759",
   "metadata": {},
   "outputs": [
    {
     "data": {
      "image/png": "[encoded data removed]",
      "text/plain": [
       "<Figure size 640x480 with 4 Axes>"
      ]
     },
     "metadata": {},
     "output_type": "display_data"
    }
   ],
   "source": [
    "#Create Histogram to check distribution\n",
    "returns.hist(bins=100)\n",
    "plt.show()"
   ]
  },
  {
   "cell_type": "markdown",
   "id": "6f1d0f51",
   "metadata": {},
   "source": [
    "# Covariance Matrix"
   ]
  },
  {
   "cell_type": "code",
   "execution_count": 13,
   "id": "a311510b",
   "metadata": {},
   "outputs": [
    {
     "data": {
      "text/html": [
       "<div>\n",
       "<style scoped>\n",
       "    .dataframe tbody tr th:only-of-type {\n",
       "        vertical-align: middle;\n",
       "    }\n",
       "\n",
       "    .dataframe tbody tr th {\n",
       "        vertical-align: top;\n",
       "    }\n",
       "\n",
       "    .dataframe thead th {\n",
       "        text-align: right;\n",
       "    }\n",
       "</style>\n",
       "<table border=\"1\" class=\"dataframe\">\n",
       "  <thead>\n",
       "    <tr style=\"text-align: right;\">\n",
       "      <th></th>\n",
       "      <th>AMD</th>\n",
       "      <th>NFLX</th>\n",
       "      <th>AAPL</th>\n",
       "      <th>TSLA</th>\n",
       "    </tr>\n",
       "  </thead>\n",
       "  <tbody>\n",
       "    <tr>\n",
       "      <th>AMD</th>\n",
       "      <td>0.325740</td>\n",
       "      <td>0.108086</td>\n",
       "      <td>0.093820</td>\n",
       "      <td>0.138179</td>\n",
       "    </tr>\n",
       "    <tr>\n",
       "      <th>NFLX</th>\n",
       "      <td>0.108086</td>\n",
       "      <td>0.201853</td>\n",
       "      <td>0.066733</td>\n",
       "      <td>0.103611</td>\n",
       "    </tr>\n",
       "    <tr>\n",
       "      <th>AAPL</th>\n",
       "      <td>0.093820</td>\n",
       "      <td>0.066733</td>\n",
       "      <td>0.097819</td>\n",
       "      <td>0.088789</td>\n",
       "    </tr>\n",
       "    <tr>\n",
       "      <th>TSLA</th>\n",
       "      <td>0.138179</td>\n",
       "      <td>0.103611</td>\n",
       "      <td>0.088789</td>\n",
       "      <td>0.384064</td>\n",
       "    </tr>\n",
       "  </tbody>\n",
       "</table>\n",
       "</div>"
      ],
      "text/plain": [
       "           AMD      NFLX      AAPL      TSLA\n",
       "AMD   0.325740  0.108086  0.093820  0.138179\n",
       "NFLX  0.108086  0.201853  0.066733  0.103611\n",
       "AAPL  0.093820  0.066733  0.097819  0.088789\n",
       "TSLA  0.138179  0.103611  0.088789  0.384064"
      ]
     },
     "execution_count": 13,
     "metadata": {},
     "output_type": "execute_result"
    }
   ],
   "source": [
    "# Create and show the annualized covariance matrix \n",
    "cov_matrix_annual = returns.cov()*252\n",
    "cov_matrix_annual"
   ]
  },
  {
   "cell_type": "markdown",
   "id": "0d0efc04",
   "metadata": {},
   "source": [
    "# Correlation Matrix "
   ]
  },
  {
   "cell_type": "code",
   "execution_count": 15,
   "id": "0fe8d82c",
   "metadata": {},
   "outputs": [
    {
     "data": {
      "text/html": [
       "<div>\n",
       "<style scoped>\n",
       "    .dataframe tbody tr th:only-of-type {\n",
       "        vertical-align: middle;\n",
       "    }\n",
       "\n",
       "    .dataframe tbody tr th {\n",
       "        vertical-align: top;\n",
       "    }\n",
       "\n",
       "    .dataframe thead th {\n",
       "        text-align: right;\n",
       "    }\n",
       "</style>\n",
       "<table border=\"1\" class=\"dataframe\">\n",
       "  <thead>\n",
       "    <tr style=\"text-align: right;\">\n",
       "      <th></th>\n",
       "      <th>AMD</th>\n",
       "      <th>NFLX</th>\n",
       "      <th>AAPL</th>\n",
       "      <th>TSLA</th>\n",
       "    </tr>\n",
       "  </thead>\n",
       "  <tbody>\n",
       "    <tr>\n",
       "      <th>AMD</th>\n",
       "      <td>1.000000</td>\n",
       "      <td>0.421517</td>\n",
       "      <td>0.525589</td>\n",
       "      <td>0.390664</td>\n",
       "    </tr>\n",
       "    <tr>\n",
       "      <th>NFLX</th>\n",
       "      <td>0.421517</td>\n",
       "      <td>1.000000</td>\n",
       "      <td>0.474908</td>\n",
       "      <td>0.372124</td>\n",
       "    </tr>\n",
       "    <tr>\n",
       "      <th>AAPL</th>\n",
       "      <td>0.525589</td>\n",
       "      <td>0.474908</td>\n",
       "      <td>1.000000</td>\n",
       "      <td>0.458087</td>\n",
       "    </tr>\n",
       "    <tr>\n",
       "      <th>TSLA</th>\n",
       "      <td>0.390664</td>\n",
       "      <td>0.372124</td>\n",
       "      <td>0.458087</td>\n",
       "      <td>1.000000</td>\n",
       "    </tr>\n",
       "  </tbody>\n",
       "</table>\n",
       "</div>"
      ],
      "text/plain": [
       "           AMD      NFLX      AAPL      TSLA\n",
       "AMD   1.000000  0.421517  0.525589  0.390664\n",
       "NFLX  0.421517  1.000000  0.474908  0.372124\n",
       "AAPL  0.525589  0.474908  1.000000  0.458087\n",
       "TSLA  0.390664  0.372124  0.458087  1.000000"
      ]
     },
     "execution_count": 15,
     "metadata": {},
     "output_type": "execute_result"
    }
   ],
   "source": [
    "corr_matrix_annual = returns.corr()\n",
    "corr_matrix_annual"
   ]
  },
  {
   "cell_type": "markdown",
   "id": "c7aca14a",
   "metadata": {},
   "source": [
    "# Porfolio Variance"
   ]
  },
  {
   "cell_type": "code",
   "execution_count": 18,
   "id": "f1c753e2",
   "metadata": {},
   "outputs": [],
   "source": [
    "#Assign weights to the stocks. \n",
    "weights = np.array([0.25,0.25,0.25,0.25])"
   ]
  },
  {
   "cell_type": "code",
   "execution_count": 19,
   "id": "684b1124",
   "metadata": {},
   "outputs": [
    {
     "data": {
      "text/plain": [
       "0.13799449114263546"
      ]
     },
     "execution_count": 19,
     "metadata": {},
     "output_type": "execute_result"
    }
   ],
   "source": [
    "#Calculate the porfolio variance \n",
    "port_variance = np.dot(weights.T,np.dot(cov_matrix_annual,weights))\n",
    "port_variance"
   ]
  },
  {
   "cell_type": "markdown",
   "id": "7608f44e",
   "metadata": {},
   "source": [
    "# Porfolio Volatility "
   ]
  },
  {
   "cell_type": "code",
   "execution_count": 20,
   "id": "a4d45d79",
   "metadata": {},
   "outputs": [
    {
     "data": {
      "text/plain": [
       "0.3714760976733704"
      ]
     },
     "execution_count": 20,
     "metadata": {},
     "output_type": "execute_result"
    }
   ],
   "source": [
    "#Calcualte the portfolio volatility aka standard deviation \n",
    "port_volatility = np.sqrt(port_variance) \n",
    "port_volatility"
   ]
  },
  {
   "cell_type": "markdown",
   "id": "96e4691d",
   "metadata": {},
   "source": [
    "# Annual Porfolio Return"
   ]
  },
  {
   "cell_type": "code",
   "execution_count": 21,
   "id": "55914a9d",
   "metadata": {},
   "outputs": [
    {
     "data": {
      "text/plain": [
       "0.4174451159816457"
      ]
     },
     "execution_count": 21,
     "metadata": {},
     "output_type": "execute_result"
    }
   ],
   "source": [
    "#Calculate the annual porfolio return \n",
    "portfolio_simple_annual_return = np.sum(returns.mean()*weights)*252\n",
    "portfolio_simple_annual_return"
   ]
  },
  {
   "cell_type": "code",
   "execution_count": 22,
   "id": "24b50f83",
   "metadata": {},
   "outputs": [],
   "source": [
    "#Show the expected annual return, volatility(risk), and variance \n",
    "percent_var = str(round(port_variance,2)*100)+'%'\n",
    "percent_vola= str(round(port_volatility,2)*100)+'%'\n",
    "percent_ret = str(round(portfolio_simple_annual_return,2)*100)+'%'"
   ]
  },
  {
   "cell_type": "code",
   "execution_count": 23,
   "id": "0f8ad13d",
   "metadata": {},
   "outputs": [
    {
     "name": "stdout",
     "output_type": "stream",
     "text": [
      "Expect annual return:42.0%\n",
      "Annual volativity/risk: 37.0%\n",
      "Annual variance: 14.000000000000002%\n"
     ]
    }
   ],
   "source": [
    "print('Expect annual return:'+percent_ret)\n",
    "print('Annual volativity/risk: '+percent_vola)\n",
    "print('Annual variance: '+percent_var)"
   ]
  },
  {
   "cell_type": "code",
   "execution_count": 24,
   "id": "7a651f30",
   "metadata": {},
   "outputs": [
    {
     "name": "stdout",
     "output_type": "stream",
     "text": [
      "Requirement already satisfied: PyPortfolioOpt in ./opt/anaconda3/lib/python3.9/site-packages (1.5.4)\n",
      "Requirement already satisfied: pandas>=0.19 in ./opt/anaconda3/lib/python3.9/site-packages (from PyPortfolioOpt) (1.4.4)\n",
      "Requirement already satisfied: cvxpy<2.0.0,>=1.1.10 in ./opt/anaconda3/lib/python3.9/site-packages (from PyPortfolioOpt) (1.3.0)\n",
      "Requirement already satisfied: numpy<2.0.0,>=1.22.4 in ./opt/anaconda3/lib/python3.9/site-packages (from PyPortfolioOpt) (1.22.4)\n",
      "Requirement already satisfied: scipy<2.0,>=1.3 in ./opt/anaconda3/lib/python3.9/site-packages (from PyPortfolioOpt) (1.7.3)\n",
      "Requirement already satisfied: ecos>=2 in ./opt/anaconda3/lib/python3.9/site-packages (from cvxpy<2.0.0,>=1.1.10->PyPortfolioOpt) (2.0.12)\n",
      "Requirement already satisfied: scs>=1.1.6 in ./opt/anaconda3/lib/python3.9/site-packages (from cvxpy<2.0.0,>=1.1.10->PyPortfolioOpt) (3.2.2)\n",
      "Requirement already satisfied: osqp>=0.4.1 in ./opt/anaconda3/lib/python3.9/site-packages (from cvxpy<2.0.0,>=1.1.10->PyPortfolioOpt) (0.6.2.post8)\n",
      "Requirement already satisfied: setuptools<=64.0.2 in ./opt/anaconda3/lib/python3.9/site-packages (from cvxpy<2.0.0,>=1.1.10->PyPortfolioOpt) (63.4.1)\n",
      "Requirement already satisfied: python-dateutil>=2.8.1 in ./opt/anaconda3/lib/python3.9/site-packages (from pandas>=0.19->PyPortfolioOpt) (2.8.2)\n",
      "Requirement already satisfied: pytz>=2020.1 in ./opt/anaconda3/lib/python3.9/site-packages (from pandas>=0.19->PyPortfolioOpt) (2022.7.1)\n",
      "Requirement already satisfied: qdldl in ./opt/anaconda3/lib/python3.9/site-packages (from osqp>=0.4.1->cvxpy<2.0.0,>=1.1.10->PyPortfolioOpt) (0.1.5.post3)\n",
      "Requirement already satisfied: six>=1.5 in ./opt/anaconda3/lib/python3.9/site-packages (from python-dateutil>=2.8.1->pandas>=0.19->PyPortfolioOpt) (1.16.0)\n",
      "Note: you may need to restart the kernel to use updated packages.\n"
     ]
    }
   ],
   "source": [
    "pip install PyPortfolioOpt"
   ]
  },
  {
   "cell_type": "markdown",
   "id": "064ae9ea",
   "metadata": {},
   "source": [
    "# Porfolio Optimization "
   ]
  },
  {
   "cell_type": "code",
   "execution_count": 25,
   "id": "e56f18a8",
   "metadata": {},
   "outputs": [],
   "source": [
    "from pypfopt.efficient_frontier import EfficientFrontier\n",
    "from pypfopt import risk_models\n",
    "from pypfopt import expected_returns\n",
    "from pypfopt import plotting"
   ]
  },
  {
   "cell_type": "code",
   "execution_count": 48,
   "id": "e52ac287",
   "metadata": {},
   "outputs": [
    {
     "name": "stdout",
     "output_type": "stream",
     "text": [
      "OrderedDict([('AMD', 0.07359), ('NFLX', -0.24586), ('AAPL', 0.86356), ('TSLA', 0.30871)])\n",
      "Expected annual return: 37.4%\n",
      "Annual volatility: 33.9%\n",
      "Sharpe Ratio: 1.04\n"
     ]
    },
    {
     "data": {
      "text/plain": [
       "(0.37380670614540834, 0.33876497491448543, 1.0444016717924274)"
      ]
     },
     "execution_count": 48,
     "metadata": {},
     "output_type": "execute_result"
    }
   ],
   "source": [
    "#Porfolio Optimization \n",
    "#Calculate the expected returns and the annualuzed sample covariance matrix of asset returns \n",
    "mu = expected_returns.mean_historical_return(df)\n",
    "S = risk_models.sample_cov(df)\n",
    "\n",
    "#Optimize for the maximum sharpe ratio \n",
    "ef= EfficientFrontier(mu,S)\n",
    "weights = ef.max_sharpe()\n",
    "cleaned_weights = ef.clean_weights()\n",
    "print(clean_weights)\n",
    "ef.portfolio_performance(verbose=True)"
   ]
  },
  {
   "cell_type": "code",
   "execution_count": 50,
   "id": "3141995a",
   "metadata": {},
   "outputs": [
    {
     "data": {
      "text/plain": [
       "1.0"
      ]
     },
     "execution_count": 50,
     "metadata": {},
     "output_type": "execute_result"
    }
   ],
   "source": [
    "0.07359+(-0.24586)+0.86356+0.30871"
   ]
  },
  {
   "cell_type": "code",
   "execution_count": 54,
   "id": "88215db4",
   "metadata": {},
   "outputs": [
    {
     "name": "stdout",
     "output_type": "stream",
     "text": [
      "Discrete allocation:  {'AMD': 20, 'AAPL': 243, 'TSLA': 64}\n",
      "Fund remaining: $146.59\n"
     ]
    }
   ],
   "source": [
    "# Get the discrete allocation of each share per stock \n",
    "from pypfopt.discrete_allocation import DiscreteAllocation, get_latest_prices\n",
    "\n",
    "latest_prices = get_latest_prices(df)\n",
    "da = DiscreteAllocation(cleaned_weights, latest_prices, total_portfolio_value= 50000)\n",
    "\n",
    "allocation, leftover = da.lp_portfolio()\n",
    "print('Discrete allocation: ', allocation)\n",
    "print('Fund remaining: ${:.2f}'.format(leftover))"
   ]
  }
 ],
 "metadata": {
  "kernelspec": {
   "display_name": "Python 3 (ipykernel)",
   "language": "python",
   "name": "python3"
  },
  "language_info": {
   "codemirror_mode": {
    "name": "ipython",
    "version": 3
   },
   "file_extension": ".py",
   "mimetype": "text/x-python",
   "name": "python",
   "nbconvert_exporter": "python",
   "pygments_lexer": "ipython3",
   "version": "3.9.13"
  }
 },
 "nbformat": 4,
 "nbformat_minor": 5
}
